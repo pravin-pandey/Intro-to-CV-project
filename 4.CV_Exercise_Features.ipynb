{
 "cells": [
  {
   "cell_type": "markdown",
   "metadata": {},
   "source": [
    "\n",
    "# Introduction to Computer Vision\n",
    "\n",
    "Summer Semester 2022, 17.05.2022, Otto von Guericke University Magdeburg."
   ]
  },
  {
   "cell_type": "markdown",
   "metadata": {},
   "source": [
    "# 4. Exercise - Features"
   ]
  },
  {
   "cell_type": "markdown",
   "metadata": {},
   "source": [
    "In this exercise, we will again work with the [car racing](https://gym.openai.com/envs/CarRacing-v0/) environment from [Gym](http://gym.openai.com). Our goal is to apply different computer vision approaches to the simulator.\n",
    "\n",
    "The goal of this exercise is to generate different filter banks for texture extraction on the generated data. For this purpose, the generated images from the last assignment can be used. First, the **OpenCV** functions are used for the filter bank implementation. Then, the filter banks should be implemented without using the **OpenCV** package.\n",
    "\n",
    "\n",
    "*Important*: You need to install [Gym](http://gym.openai.com) in your system. The installation can be done with pip or by installing from the sources. More information at [https://gym.openai.com/docs/#installation](https://gym.openai.com/docs/#installation).\n",
    "\n",
    "The solutions for the assignment may be a Python Notebook or .py files. The visual results can be integrated into the notebook or a PDF document."
   ]
  },
  {
   "cell_type": "markdown",
   "metadata": {},
   "source": [
    "## A. Harris Corner Detector"
   ]
  },
  {
   "cell_type": "markdown",
   "metadata": {},
   "source": [
    "In this exercise, the Harris corner detector should be implemented for Car Racing images. It should be programmed from scratch, while the gradients can be extracted using the Sobel operator of **OpenCV**. The implementation of the Harris corner detection from **OpenCV** can be used for verifying the results. Visualise the detected corners and edges."
   ]
  },
  {
   "cell_type": "code",
   "execution_count": 15,
   "metadata": {},
   "outputs": [],
   "source": [
    "import numpy as np\n",
    "import cv2"
   ]
  },
  {
   "cell_type": "code",
   "execution_count": 16,
   "metadata": {},
   "outputs": [],
   "source": [
    "img = cv2.imread(r\"G://OVGU Study//Sem2//Introduction to Computer Vision//Assignments//assign1//image.png\")\n",
    "gray = cv2.cvtColor(img,cv.COLOR_BGR2GRAY)\n",
    "gray = np.float32(gray)"
   ]
  },
  {
   "cell_type": "markdown",
   "metadata": {},
   "source": [
    "Harris corner detector without using OpenCV"
   ]
  },
  {
   "cell_type": "code",
   "execution_count": 22,
   "metadata": {},
   "outputs": [],
   "source": [
    "def convolve(img, kernel):\n",
    "    \"\"\"\n",
    "    Convolve function for odd dimensions.\n",
    "    IT CONVOLVES IMAGES\n",
    "    \"\"\"\n",
    "    if kernel.shape[0] % 2 != 1 or kernel.shape[1] % 2 != 1:\n",
    "        raise ValueError(\"Only odd dimensions on filter supported\")\n",
    "\n",
    "    img_height = img.shape[0]\n",
    "    img_width = img.shape[1]\n",
    "    pad_height = kernel.shape[0] // 2\n",
    "    pad_width = kernel.shape[1] // 2\n",
    "    \n",
    "    pad = ((pad_height, pad_height), (pad_height, pad_width))\n",
    "    g = np.empty(img.shape, dtype=np.float64)\n",
    "    img = np.pad(img, pad, mode='constant', constant_values=0)\n",
    "    # Do convolution\n",
    "    for i in np.arange(pad_height, img_height+pad_height):\n",
    "        for j in np.arange(pad_width, img_width+pad_width):\n",
    "            roi = img[i - pad_height:i + pad_height +\n",
    "                      1, j - pad_width:j + pad_width + 1]\n",
    "            g[i - pad_height, j - pad_width] = (roi*kernel).sum()\n",
    "\n",
    "    if (g.dtype == np.float64):\n",
    "        kernel = kernel / 255.0\n",
    "        kernel = (kernel*255).astype(np.uint8)\n",
    "    else:\n",
    "        g = g + abs(np.amin(g))\n",
    "        g = g / np.amax(g)\n",
    "        g = (g*255.0)\n",
    "    return g"
   ]
  },
  {
   "cell_type": "code",
   "execution_count": 23,
   "metadata": {},
   "outputs": [],
   "source": [
    "def harris(img, threshold=0.6):\n",
    "\n",
    "    img_cpy = img.copy() # copying image\n",
    "\n",
    "    #img1_gray = cv2.cvtColor(img, cv2.COLOR_BGR2GRAY) # grayscaling (0-1)\n",
    "\n",
    "    dx = convolve(gray, SOBEL_X) # convolving with sobel filter on X-axis\n",
    "    dy = convolve(gray, SOBEL_Y) # convolving with sobel filter on Y-axis\n",
    "    # square of derivatives\n",
    "    dx2 = np.square(dx)\n",
    "    dy2 = np.square(dy)\n",
    "    dxdy = dx*dy #cross filtering\n",
    "    # gauss filter for all directions (x,y,cross axis)\n",
    "    g_dx2 = convolve(dx2, GAUSS)\n",
    "    g_dy2 = convolve(dy2, GAUSS)\n",
    "    g_dxdy = convolve(dxdy, GAUSS)\n",
    "    # Harris Function\n",
    "    harris = g_dx2*g_dy2 - np.square(g_dxdy) - 0.12*np.square(g_dx2 + g_dy2) # r(harris) = det - k*(trace**2)\n",
    "    # Normalizing inside (0-1)\n",
    "    cv2.normalize(harris, harris, 0, 1, cv2.NORM_MINMAX)\n",
    "\n",
    "    # find all points above threshold (nonmax supression line)\n",
    "    loc = np.where(harris >= threshold)\n",
    "    # drawing filtered points\n",
    "    for pt in zip(*loc[::-1]):\n",
    "        cv2.circle(img_cpy, pt, 3, (0, 0, 255), -1)\n",
    "\n",
    "    return img_cpy,g_dx2,g_dy2,dx,dy,loc"
   ]
  },
  {
   "cell_type": "code",
   "execution_count": 24,
   "metadata": {},
   "outputs": [],
   "source": [
    "# Sobel x-axis kernel\n",
    "SOBEL_X = np.array((\n",
    "    [-1, 0, 1],\n",
    "    [-2, 0, 2],\n",
    "    [-1, 0, 1]), dtype=\"int32\")\n",
    "\n",
    "# Sobel y-axis kernel\n",
    "SOBEL_Y = np.array((\n",
    "    [-1, -2, -1],\n",
    "    [0, 0, 0],\n",
    "    [1, 2, 1]), dtype=\"int32\")\n",
    "\n",
    "# Gaussian kernel\n",
    "GAUSS = np.array((\n",
    "    [1/16, 2/16, 1/16],\n",
    "    [2/16, 4/16, 2/16],\n",
    "    [1/16, 2/16, 1/16]), dtype=\"float64\")\n"
   ]
  },
  {
   "cell_type": "code",
   "execution_count": 29,
   "metadata": {},
   "outputs": [
    {
     "data": {
      "text/plain": [
       "Text(0.5, 1.0, 'Harris Corner Output')"
      ]
     },
     "execution_count": 29,
     "metadata": {},
     "output_type": "execute_result"
    },
    {
     "data": {
      "image/png": "[encoded data removed]",
      "text/plain": [
       "<Figure size 432x288 with 1 Axes>"
      ]
     },
     "metadata": {
      "needs_background": "light"
     },
     "output_type": "display_data"
    }
   ],
   "source": [
    "import matplotlib.pyplot as plt\n",
    "corners,g_dx2,g_dy2,dx,dy,loc = harris(gray,1)\n",
    "\n",
    "plt.subplot(122)\n",
    "plt.imshow(corners)\n",
    "plt.title(\"Harris Corner Output\")"
   ]
  },
  {
   "cell_type": "markdown",
   "metadata": {},
   "source": [
    "Harris corner detector using OpenCV"
   ]
  },
  {
   "cell_type": "code",
   "execution_count": 28,
   "metadata": {},
   "outputs": [],
   "source": [
    "dst = cv2.cornerHarris(gray,2,3,0.04)\n",
    "#result is dilated for marking the corners, not important\n",
    "dst = cv2.dilate(dst,None)\n",
    "# Threshold for an optimal value, it may vary depending on the image.\n",
    "img[dst>0.01*dst.max()]=[0,0,255]\n",
    "cv2.imshow('harris corner detector using open cv',img)\n",
    "if cv2.waitKey(0) & 0xff == 27:\n",
    "    cv2.destroyAllWindows()"
   ]
  },
  {
   "cell_type": "markdown",
   "metadata": {},
   "source": [
    "## B. Laplacian of Gaussian"
   ]
  },
  {
   "cell_type": "markdown",
   "metadata": {},
   "source": [
    "In this exercise, the Laplacian of Gaussian and the difference of Gaussians should be implemented. Similarly to exercise A, it is fine to use **OpenCV** functions for the gradient computation. Visualise the detected features and compare the results of Laplacian of Gaussian with the differences of Gaussian."
   ]
  },
  {
   "cell_type": "code",
   "execution_count": 2,
   "metadata": {},
   "outputs": [
    {
     "data": {
      "text/plain": [
       "-1"
      ]
     },
     "execution_count": 2,
     "metadata": {},
     "output_type": "execute_result"
    }
   ],
   "source": [
    "import cv2\n",
    "img = cv2.imread(r\"G://OVGU Study//Sem2//Introduction to Computer Vision//Assignments//assign1//image.png\")\n",
    "\n",
    "# Apply 3x3 and 7x7 Gaussian blur\n",
    "low_sigma = cv2.GaussianBlur(img,(3,3),0)\n",
    "high_sigma = cv2.GaussianBlur(img,(5,5),0)\n",
    "\n",
    "# Calculate the DoG by subtracting\n",
    "dog = low_sigma - high_sigma\n",
    "cv2.imshow('low_sigma',low_sigma)\n",
    "cv2.waitKey(0)\n",
    "cv2.imshow('high_sigma',high_sigma)\n",
    "cv2.waitKey(0)\n",
    "cv2.imshow('DoG',dog)\n",
    "cv2.waitKey(0)"
   ]
  },
  {
   "cell_type": "code",
   "execution_count": 4,
   "metadata": {},
   "outputs": [
    {
     "data": {
      "text/plain": [
       "-1"
      ]
     },
     "execution_count": 4,
     "metadata": {},
     "output_type": "execute_result"
    }
   ],
   "source": [
    "import cv2\n",
    "import numpy as np\n",
    "\n",
    "# Load the image in greyscale\n",
    "img = cv2.imread(r\"G://OVGU Study//Sem2//Introduction to Computer Vision//Assignments//assign1//image.png\",0)\n",
    "\n",
    "# Apply Gaussian Blur\n",
    "blur = cv2.GaussianBlur(img,(3,3),0)\n",
    "\n",
    "# Apply Laplacian operator in some higher datatype\n",
    "laplacian = cv2.Laplacian(blur,cv2.CV_64F)\n",
    "\n",
    "# But this tends to localize the edge towards the brighter side.\n",
    "laplacian1 = laplacian/laplacian.max()\n",
    "\n",
    "cv2.imshow('a7',laplacian1)\n",
    "cv2.waitKey(0)"
   ]
  }
 ],
 "metadata": {
  "kernelspec": {
   "display_name": "Python 3",
   "language": "python",
   "name": "python3"
  },
  "language_info": {
   "codemirror_mode": {
    "name": "ipython",
    "version": 3
   },
   "file_extension": ".py",
   "mimetype": "text/x-python",
   "name": "python",
   "nbconvert_exporter": "python",
   "pygments_lexer": "ipython3",
   "version": "3.8.8"
  }
 },
 "nbformat": 4,
 "nbformat_minor": 4
}
