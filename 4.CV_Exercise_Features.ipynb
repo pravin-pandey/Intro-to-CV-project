{
 "cells": [
  {
   "cell_type": "markdown",
   "metadata": {},
   "source": [
    "\n",
    "# Introduction to Computer Vision\n",
    "\n",
    "Summer Semester 2022, 17.05.2022, Otto von Guericke University Magdeburg."
   ]
  },
  {
   "cell_type": "markdown",
   "metadata": {},
   "source": [
    "# 4. Exercise - Features"
   ]
  },
  {
   "cell_type": "markdown",
   "metadata": {},
   "source": [
    "In this exercise, we will again work with the [car racing](https://gym.openai.com/envs/CarRacing-v0/) environment from [Gym](http://gym.openai.com). Our goal is to apply different computer vision approaches to the simulator.\n",
    "\n",
    "The goal of this exercise is to generate different filter banks for texture extraction on the generated data. For this purpose, the generated images from the last assignment can be used. First, the **OpenCV** functions are used for the filter bank implementation. Then, the filter banks should be implemented without using the **OpenCV** package.\n",
    "\n",
    "\n",
    "*Important*: You need to install [Gym](http://gym.openai.com) in your system. The installation can be done with pip or by installing from the sources. More information at [https://gym.openai.com/docs/#installation](https://gym.openai.com/docs/#installation).\n",
    "\n",
    "The solutions for the assignment may be a Python Notebook or .py files. The visual results can be integrated into the notebook or a PDF document."
   ]
  },
  {
   "cell_type": "markdown",
   "metadata": {},
   "source": [
    "## A. Harris Corner Detector"
   ]
  },
  {
   "cell_type": "markdown",
   "metadata": {},
   "source": [
    "In this exercise, the Harris corner detector should be implemented for Car Racing images. It should be programmed from scratch, while the gradients can be extracted using the Sobel operator of **OpenCV**. The implementation of the Harris corner detection from **OpenCV** can be used for verifying the results. Visualise the detected corners and edges."
   ]
  },
  {
   "cell_type": "markdown",
   "metadata": {},
   "source": [
    "## B. Laplacian of Gaussian"
   ]
  },
  {
   "cell_type": "markdown",
   "metadata": {},
   "source": [
    "In this exercise, the Laplacian of Gaussian and the difference of Gaussians should be implemented. Similarly to exercise A, it is fine to use **OpenCV** functions for the gradient computation. Visualise the detected features and compare the results of Laplacian of Gaussian with the differences of Gaussian."
   ]
  },
  {
   "cell_type": "code",
   "execution_count": 3,
   "metadata": {},
   "outputs": [
    {
     "data": {
      "text/plain": [
       "-1"
      ]
     },
     "execution_count": 3,
     "metadata": {},
     "output_type": "execute_result"
    }
   ],
   "source": [
    "import cv2\n",
    "img = cv2.imread('img_tbused2.png')\n",
    "\n",
    "# Apply 3x3 and 7x7 Gaussian blur\n",
    "low_sigma = cv2.GaussianBlur(img,(3,3),0)\n",
    "high_sigma = cv2.GaussianBlur(img,(5,5),0)\n",
    "\n",
    "# Calculate the DoG by subtracting\n",
    "dog = low_sigma - high_sigma\n",
    "cv2.imshow('low_sigma',low_sigma)\n",
    "cv2.waitKey(0)\n",
    "cv2.imshow('high_sigma',high_sigma)\n",
    "cv2.waitKey(0)\n",
    "cv2.imshow('DoG',dog)\n",
    "cv2.waitKey(0)"
   ]
  },
  {
   "cell_type": "code",
   "execution_count": 6,
   "metadata": {},
   "outputs": [
    {
     "data": {
      "text/plain": [
       "-1"
      ]
     },
     "execution_count": 6,
     "metadata": {},
     "output_type": "execute_result"
    }
   ],
   "source": [
    "import cv2\n",
    "import numpy as np\n",
    "\n",
    "# Load the image in greyscale\n",
    "img = cv2.imread('img_tbused2.png',0)\n",
    "\n",
    "# Apply Gaussian Blur\n",
    "blur = cv2.GaussianBlur(img,(3,3),0)\n",
    "\n",
    "# Apply Laplacian operator in some higher datatype\n",
    "laplacian = cv2.Laplacian(blur,cv2.CV_64F)\n",
    "\n",
    "# But this tends to localize the edge towards the brighter side.\n",
    "laplacian1 = laplacian/laplacian.max()\n",
    "\n",
    "cv2.imshow('a7',laplacian1)\n",
    "cv2.waitKey(0)"
   ]
  }
 ],
 "metadata": {
  "kernelspec": {
   "display_name": "Python 3 (ipykernel)",
   "language": "python",
   "name": "python3"
  },
  "language_info": {
   "codemirror_mode": {
    "name": "ipython",
    "version": 3
   },
   "file_extension": ".py",
   "mimetype": "text/x-python",
   "name": "python",
   "nbconvert_exporter": "python",
   "pygments_lexer": "ipython3",
   "version": "3.9.7"
  }
 },
 "nbformat": 4,
 "nbformat_minor": 4
}
