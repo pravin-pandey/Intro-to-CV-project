{
 "cells": [
  {
   "cell_type": "code",
   "execution_count": 1,
   "id": "e46c843c",
   "metadata": {},
   "outputs": [],
   "source": [
    "import numpy as np\n",
    "import pandas as pd\n",
    "import matplotlib.pyplot as plt"
   ]
  },
  {
   "cell_type": "code",
   "execution_count": 2,
   "id": "a0926f78",
   "metadata": {},
   "outputs": [],
   "source": [
    "#### Adding Salt and Pepper Noise"
   ]
  },
  {
   "cell_type": "code",
   "execution_count": 3,
   "id": "cc2f2b81",
   "metadata": {},
   "outputs": [],
   "source": [
    "import random"
   ]
  },
  {
   "cell_type": "code",
   "execution_count": 4,
   "id": "575f7fb2",
   "metadata": {},
   "outputs": [],
   "source": [
    "def add_noise(image):\n",
    "    row , col = image.shape\n",
    "    number_of_pixels = random.randint(300, 5000)\n",
    "    for i in range(number_of_pixels):\n",
    "        y_coord=random.randint(0, row - 1)\n",
    "        x_coord=random.randint(0, col - 1)\n",
    "        image[y_coord][x_coord] = 255\n",
    "    number_of_pixels = random.randint(300 , 5000)\n",
    "    for i in range(number_of_pixels):\n",
    "        y_coord=random.randint(0, row - 1)\n",
    "        x_coord=random.randint(0, col - 1)\n",
    "        image[y_coord][x_coord] = 0\n",
    "        \n",
    "    return image"
   ]
  },
  {
   "cell_type": "code",
   "execution_count": 5,
   "id": "ec7c8f3c",
   "metadata": {},
   "outputs": [
    {
     "data": {
      "text/plain": [
       "-1"
      ]
     },
     "execution_count": 5,
     "metadata": {},
     "output_type": "execute_result"
    }
   ],
   "source": [
    "import cv2\n",
    "image = cv2.imread(r\"G://OVGU Study//Sem2//Introduction to Computer Vision//Assignments//assign1//image.png\", cv2.IMREAD_GRAYSCALE)\n",
    "cv2.imshow(\"image\",image)\n",
    "cv2.waitKey(0)"
   ]
  },
  {
   "cell_type": "code",
   "execution_count": 6,
   "id": "8b710a3e",
   "metadata": {},
   "outputs": [
    {
     "data": {
      "text/plain": [
       "-1"
      ]
     },
     "execution_count": 6,
     "metadata": {},
     "output_type": "execute_result"
    }
   ],
   "source": [
    "sap_car = add_noise(image)\n",
    "cv2.imshow(\"sap_car\",sap_car)\n",
    "cv2.waitKey(0)"
   ]
  },
  {
   "cell_type": "code",
   "execution_count": 7,
   "id": "75ad184d",
   "metadata": {},
   "outputs": [],
   "source": [
    "#### Applying Gaussian Filter to Salt and Pepper Noise Image"
   ]
  },
  {
   "cell_type": "code",
   "execution_count": 8,
   "id": "e2b72117",
   "metadata": {},
   "outputs": [],
   "source": [
    "### Implementation with OpenCV package - Gaussian Filter"
   ]
  },
  {
   "cell_type": "code",
   "execution_count": 9,
   "id": "be1f8632",
   "metadata": {},
   "outputs": [],
   "source": [
    "gaussian_cv_filter = cv2.GaussianBlur(sap_car,(5,5),3)"
   ]
  },
  {
   "cell_type": "code",
   "execution_count": 10,
   "id": "ba30d067",
   "metadata": {},
   "outputs": [
    {
     "data": {
      "text/plain": [
       "-1"
      ]
     },
     "execution_count": 10,
     "metadata": {},
     "output_type": "execute_result"
    }
   ],
   "source": [
    "cv2.imshow(\"gaussian_cv_filter\", gaussian_cv_filter)\n",
    "cv2.waitKey(0)"
   ]
  },
  {
   "cell_type": "code",
   "execution_count": 22,
   "id": "1c608bef",
   "metadata": {},
   "outputs": [],
   "source": [
    "### Implementation without OpenCV package - Gaussian Filter - not working"
   ]
  },
  {
   "cell_type": "code",
   "execution_count": 11,
   "id": "5dc4e707",
   "metadata": {},
   "outputs": [],
   "source": [
    "def convolution(oldimage, kernel):\n",
    "    #image = Image.fromarray(image, 'RGB')\n",
    "    image_h = oldimage.shape[0]\n",
    "    #image_w = oldimage.shape[1]\n",
    "    \n",
    "    \n",
    "    kernel_h = kernel.shape[0]\n",
    "    kernel_w = kernel.shape[1]\n",
    "    \n",
    "    if(len(oldimage.shape) == 3):\n",
    "        image_pad = np.pad(oldimage, pad_width=((kernel_h // 2, kernel_h // 2),(kernel_w // 2, kernel_w // 2),(0,0)), mode='constant', constant_values=0).astype(np.float32)\n",
    "    elif(len(oldimage.shape) == 2):\n",
    "        image_pad = np.pad(oldimage, pad_width=((kernel_h // 2, kernel_h // 2),(kernel_w // 2, kernel_w // 2)), mode='constant', constant_values=0).astype(np.float32)\n",
    "    \n",
    "    \n",
    "    h = kernel_h // 2\n",
    "    w = kernel_w // 2\n",
    "    \n",
    "    image_conv = np.zeros(image_pad.shape)\n",
    "    \n",
    "    for i in range(h, image_pad.shape[0]-h):\n",
    "        for j in range(w, image_pad.shape[1]-w):\n",
    "            #sum = 0\n",
    "            x = image_pad[i-h:i-h+kernel_h, j-w:j-w+kernel_w]\n",
    "            x = x.flatten()*kernel.flatten()\n",
    "            image_conv[i][j] = x.sum()\n",
    "    h_end = -h\n",
    "    w_end = -w\n",
    "    \n",
    "    if(h == 0):\n",
    "        return image_conv[h:,w:w_end]\n",
    "    if(w == 0):\n",
    "        return image_conv[h:h_end,w:]\n",
    "    return image_conv[h:h_end,w:w_end]"
   ]
  },
  {
   "cell_type": "code",
   "execution_count": 12,
   "id": "981d8012",
   "metadata": {},
   "outputs": [],
   "source": [
    "def GaussianBlurImage(image, sigma):\n",
    "    #image = imread(image)\n",
    "    #image = Image.open(image)\n",
    "    image = np.asarray(image)\n",
    "    \n",
    "    filter_size = 2 * int(4 * sigma + 0.5) + 1\n",
    "    gaussian_filter = np.zeros((filter_size, filter_size), np.float32)\n",
    "    m = filter_size//2\n",
    "    n = filter_size//2\n",
    "    \n",
    "    for x in range(-m, m+1):\n",
    "        for y in range(-n, n+1):\n",
    "            x1 = 2*np.pi*(sigma**2)\n",
    "            x2 = np.exp(-(x**2 + y**2)/(2* sigma**2))\n",
    "            gaussian_filter[x+m, y+n] = (1/x1)*x2\n",
    "    \n",
    "    im_filtered = np.zeros_like(image, dtype=np.float32)\n",
    "    for c in range(2):\n",
    "        im_filtered[ :, c] = convolution(image[ :, c], gaussian_filter)\n",
    "    return (im_filtered.astype(np.uint8))"
   ]
  },
  {
   "cell_type": "code",
   "execution_count": 14,
   "id": "19f56939",
   "metadata": {
    "scrolled": true
   },
   "outputs": [],
   "source": [
    "gaus_without_cv = GaussianBlurImage(sap_car, 3)"
   ]
  },
  {
   "cell_type": "code",
   "execution_count": 15,
   "id": "d44d5f7b",
   "metadata": {},
   "outputs": [],
   "source": [
    "#### Applying Bilateral Filter to Salt and Pepper Noise Image"
   ]
  },
  {
   "cell_type": "code",
   "execution_count": 16,
   "id": "1f1cd591",
   "metadata": {},
   "outputs": [],
   "source": [
    "### Implementation with OpenCV package - Bilateral Filter"
   ]
  },
  {
   "cell_type": "code",
   "execution_count": 17,
   "id": "b3f7d223",
   "metadata": {},
   "outputs": [],
   "source": [
    "bilateral_cv_filter = cv2.bilateralFilter(sap_car,15,80,80)"
   ]
  },
  {
   "cell_type": "code",
   "execution_count": 18,
   "id": "72a05cc1",
   "metadata": {},
   "outputs": [
    {
     "data": {
      "text/plain": [
       "-1"
      ]
     },
     "execution_count": 18,
     "metadata": {},
     "output_type": "execute_result"
    }
   ],
   "source": [
    "cv2.imshow(\"bilateral_cv_filter\", bilateral_cv_filter)\n",
    "cv2.waitKey(0)"
   ]
  },
  {
   "cell_type": "code",
   "execution_count": 21,
   "id": "cf6472fe",
   "metadata": {},
   "outputs": [],
   "source": [
    "### Implementation without OpenCV package - Bilateral Filter - not working"
   ]
  },
  {
   "cell_type": "code",
   "execution_count": 20,
   "id": "6bc63973",
   "metadata": {},
   "outputs": [],
   "source": [
    "import math\n",
    "import sys\n",
    " \n",
    " \n",
    "def vec_gaussian(img: np.ndarray, variance: float) -> np.ndarray:\n",
    "    # For applying gaussian function for each element in matrix.\n",
    "    sigma = math.sqrt(variance)\n",
    "    cons = 1 / (sigma * math.sqrt(2 * math.pi))\n",
    "    return cons * np.exp(-((img / sigma) ** 2) * 0.5)\n",
    " \n",
    " \n",
    "def get_slice(img: np.ndarray, x: int, y: int, kernel_size: int) -> np.ndarray:\n",
    "    half = kernel_size // 2\n",
    "    return img[x - half : x + half + 1, y - half : y + half + 1]\n",
    " \n",
    " \n",
    "def get_gauss_kernel(kernel_size: int, spatial_variance: float) -> np.ndarray:\n",
    "    # Creates a gaussian kernel of given dimension.\n",
    "    arr = np.zeros((kernel_size, kernel_size))\n",
    "    for i in range(0, kernel_size):\n",
    "        for j in range(0, kernel_size):\n",
    "            arr[i, j] = math.sqrt(\n",
    "                abs(i - kernel_size // 2) ** 2 + abs(j - kernel_size // 2) ** 2\n",
    "            )\n",
    "    return vec_gaussian(arr, spatial_variance)\n",
    " \n",
    " \n",
    "def bilateral_filter(\n",
    "    img: np.ndarray,\n",
    "    spatial_variance: float,\n",
    "    intensity_variance: float,\n",
    "    kernel_size: int,\n",
    ") -> np.ndarray:\n",
    "    img2 = np.zeros(img.shape)\n",
    "    gaussKer = get_gauss_kernel(kernel_size, spatial_variance)\n",
    "    sizeX, sizeY = img.shape\n",
    "    for i in range(kernel_size // 2, sizeX - kernel_size // 2):\n",
    "        for j in range(kernel_size // 2, sizeY - kernel_size // 2):\n",
    " \n",
    "            imgS = get_slice(img, i, j, kernel_size)\n",
    "            imgI = imgS - imgS[kernel_size // 2, kernel_size // 2]\n",
    "            imgIG = vec_gaussian(imgI, intensity_variance)\n",
    "            weights = np.multiply(gaussKer, imgIG)\n",
    "            vals = np.multiply(imgS, weights)\n",
    "            val = np.sum(vals) / np.sum(weights)\n",
    "            img2[i, j] = val\n",
    "    return img2\n",
    " \n",
    " \n",
    "def parse_args(args: list) -> tuple:\n",
    "    filename = args[1] if args[1:] else \"../image_data/lena.jpg\"\n",
    "    spatial_variance = float(args[2]) if args[2:] else 1.0\n",
    "    intensity_variance = float(args[3]) if args[3:] else 1.0\n",
    "    if args[4:]:\n",
    "        kernel_size = int(args[4])\n",
    "        kernel_size = kernel_size + abs(kernel_size % 2 - 1)\n",
    "    else:\n",
    "        kernel_size = 5\n",
    "    return filename, spatial_variance, intensity_variance, kernel_size\n",
    " \n",
    " \n",
    "if __name__ == \"__main__\":\n",
    "    #filename, \n",
    "    spatial_variance, intensity_variance, kernel_size = parse_args(sys.argv)\n",
    "#     img = cv2.imread(filename, 0)\n",
    "#     cv2.imshow(\"input image\", img)\n",
    " \n",
    "    out = sap_car / 255\n",
    "    out = out.astype(\"float32\")\n",
    "    out = bilateral_filter(out, spatial_variance, intensity_variance, kernel_size)\n",
    "    out = out * 255\n",
    "    out = np.uint8(out)\n",
    "    cv2.imshow(\"output image\", out)\n",
    "    cv2.waitKey(0)\n",
    "    cv2.destroyAllWindows()"
   ]
  }
 ],
 "metadata": {
  "kernelspec": {
   "display_name": "Python 3",
   "language": "python",
   "name": "python3"
  },
  "language_info": {
   "codemirror_mode": {
    "name": "ipython",
    "version": 3
   },
   "file_extension": ".py",
   "mimetype": "text/x-python",
   "name": "python",
   "nbconvert_exporter": "python",
   "pygments_lexer": "ipython3",
   "version": "3.8.8"
  }
 },
 "nbformat": 4,
 "nbformat_minor": 5
}
