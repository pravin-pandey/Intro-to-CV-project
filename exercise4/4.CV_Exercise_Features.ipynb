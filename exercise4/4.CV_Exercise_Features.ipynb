{
 "cells": [
  {
   "cell_type": "markdown",
   "metadata": {},
   "source": [
    "\n",
    "# Introduction to Computer Vision\n",
    "\n",
    "Summer Semester 2022, 17.05.2022, Otto von Guericke University Magdeburg."
   ]
  },
  {
   "cell_type": "markdown",
   "metadata": {},
   "source": [
    "# 4. Exercise - Features"
   ]
  },
  {
   "cell_type": "markdown",
   "metadata": {},
   "source": [
    "In this exercise, we will again work with the [car racing](https://gym.openai.com/envs/CarRacing-v0/) environment from [Gym](http://gym.openai.com). Our goal is to apply different computer vision approaches to the simulator.\n",
    "\n",
    "The goal of this exercise is to generate different filter banks for texture extraction on the generated data. For this purpose, the generated images from the last assignment can be used. First, the **OpenCV** functions are used for the filter bank implementation. Then, the filter banks should be implemented without using the **OpenCV** package.\n",
    "\n",
    "\n",
    "*Important*: You need to install [Gym](http://gym.openai.com) in your system. The installation can be done with pip or by installing from the sources. More information at [https://gym.openai.com/docs/#installation](https://gym.openai.com/docs/#installation).\n",
    "\n",
    "The solutions for the assignment may be a Python Notebook or .py files. The visual results can be integrated into the notebook or a PDF document."
   ]
  },
  {
   "cell_type": "markdown",
   "metadata": {},
   "source": [
    "## A. Harris Corner Detector"
   ]
  },
  {
   "cell_type": "markdown",
   "metadata": {},
   "source": [
    "In this exercise, the Harris corner detector should be implemented for Car Racing images. It should be programmed from scratch, while the gradients can be extracted using the Sobel operator of **OpenCV**. The implementation of the Harris corner detection from **OpenCV** can be used for verifying the results. Visualise the detected corners and edges."
   ]
  },
  {
   "cell_type": "code",
   "execution_count": 1,
   "metadata": {},
   "outputs": [],
   "source": [
    "import numpy as np\n",
    "import cv2\n",
    "import matplotlib.pyplot as plt"
   ]
  },
  {
   "cell_type": "markdown",
   "metadata": {},
   "source": [
    "Harris corner detector without using OpenCV"
   ]
  },
  {
   "cell_type": "code",
   "execution_count": 2,
   "metadata": {},
   "outputs": [],
   "source": [
    "def harris(img,window_size,k,threshold):\n",
    "    img = cv2.imread(img)\n",
    "    gray = cv2.cvtColor(img,cv2.COLOR_BGR2GRAY)\n",
    "    img_gaussian = cv2.GaussianBlur(gray,(3,3),0)      \n",
    "    height = img.shape[0]\n",
    "    width = img.shape[1]\n",
    "    matrix_R = np.zeros((height,width))\n",
    "    dx = cv2.Sobel(img_gaussian, cv2.CV_64F, 1, 0, ksize=3)\n",
    "    dy = cv2.Sobel(img_gaussian, cv2.CV_64F, 0, 1, ksize=3)\n",
    "    dx2=np.square(dx)\n",
    "    dy2=np.square(dy)\n",
    "    dxy=dx*dy\n",
    "    offset = int( window_size / 2 )\n",
    "    for y in range(offset, height-offset):\n",
    "        for x in range(offset, width-offset):\n",
    "            Sx2 = np.sum(dx2[y-offset:y+1+offset, x-offset:x+1+offset])\n",
    "            Sy2 = np.sum(dy2[y-offset:y+1+offset, x-offset:x+1+offset])\n",
    "            Sxy = np.sum(dxy[y-offset:y+1+offset, x-offset:x+1+offset])\n",
    "            H = np.array([[Sx2,Sxy],[Sxy,Sy2]])\n",
    "            det=np.linalg.det(H)\n",
    "            tr=np.matrix.trace(H)\n",
    "            R=det-k*(tr**2)\n",
    "            matrix_R[y-offset, x-offset]=R\n",
    "\n",
    "    cv2.normalize(matrix_R, matrix_R, 0, 1, cv2.NORM_MINMAX)\n",
    "    for y in range(offset, height-offset):\n",
    "        for x in range(offset, width-offset):\n",
    "            value=matrix_R[y, x]\n",
    "            if value>threshold:\n",
    "                cv2.circle(img,(x,y),3,(0,255,0))\n",
    "    plt.imshow(cv2.cvtColor(img, cv2.COLOR_BGR2RGB))\n",
    "    plt.xticks([])\n",
    "    plt.yticks([])\n",
    "    plt.show()"
   ]
  },
  {
   "cell_type": "code",
   "execution_count": 3,
   "metadata": {},
   "outputs": [
    {
     "data": {
      "image/png": "[encoded data removed]",
      "text/plain": [
       "<Figure size 432x288 with 1 Axes>"
      ]
     },
     "metadata": {},
     "output_type": "display_data"
    }
   ],
   "source": [
    "harris(\"G://OVGU Study//Sem2//Introduction to Computer Vision//Assignments//assign1//image.png\", 5, 0.04, 0.30)"
   ]
  },
  {
   "cell_type": "markdown",
   "metadata": {},
   "source": [
    "Harris corner detector using OpenCV"
   ]
  },
  {
   "cell_type": "code",
   "execution_count": 5,
   "metadata": {},
   "outputs": [],
   "source": [
    "img = cv2.imread(r\"G://OVGU Study//Sem2//Introduction to Computer Vision//Assignments//assign1//image.png\")\n",
    "gray = cv2.cvtColor(img,cv2.COLOR_BGR2GRAY)\n",
    "dst = cv2.cornerHarris(gray,2,3,0.04)\n",
    "#result is dilated for marking the corners, not important\n",
    "dst = cv2.dilate(dst,None)\n",
    "# Threshold for an optimal value, it may vary depending on the image.\n",
    "img[dst>0.01*dst.max()]=[0,0,255]\n",
    "cv2.imshow('harris corner detector using open cv',img)\n",
    "if cv2.waitKey(0) & 0xff == 27:\n",
    "    cv2.destroyAllWindows()"
   ]
  },
  {
   "cell_type": "markdown",
   "metadata": {},
   "source": [
    "## B. Laplacian of Gaussian"
   ]
  },
  {
   "cell_type": "markdown",
   "metadata": {},
   "source": [
    "In this exercise, the Laplacian of Gaussian and the difference of Gaussians should be implemented. Similarly to exercise A, it is fine to use **OpenCV** functions for the gradient computation. Visualise the detected features and compare the results of Laplacian of Gaussian with the differences of Gaussian."
   ]
  },
  {
   "cell_type": "code",
   "execution_count": 6,
   "metadata": {},
   "outputs": [
    {
     "data": {
      "text/plain": [
       "-1"
      ]
     },
     "execution_count": 6,
     "metadata": {},
     "output_type": "execute_result"
    }
   ],
   "source": [
    "import cv2\n",
    "img = cv2.imread(r\"G://OVGU Study//Sem2//Introduction to Computer Vision//Assignments//assign1//image.png\")\n",
    "\n",
    "# Apply 3x3 and 7x7 Gaussian blur\n",
    "low_sigma = cv2.GaussianBlur(img,(3,3),0)\n",
    "high_sigma = cv2.GaussianBlur(img,(5,5),0)\n",
    "\n",
    "# Calculate the DoG by subtracting\n",
    "dog = low_sigma - high_sigma\n",
    "cv2.imshow('low_sigma',low_sigma)\n",
    "cv2.waitKey(0)\n",
    "cv2.imshow('high_sigma',high_sigma)\n",
    "cv2.waitKey(0)\n",
    "cv2.imshow('DoG',dog)\n",
    "cv2.waitKey(0)"
   ]
  },
  {
   "cell_type": "code",
   "execution_count": 7,
   "metadata": {},
   "outputs": [
    {
     "data": {
      "text/plain": [
       "-1"
      ]
     },
     "execution_count": 7,
     "metadata": {},
     "output_type": "execute_result"
    }
   ],
   "source": [
    "import cv2\n",
    "import numpy as np\n",
    "\n",
    "# Load the image in greyscale\n",
    "img = cv2.imread(r\"G://OVGU Study//Sem2//Introduction to Computer Vision//Assignments//assign1//image.png\",0)\n",
    "\n",
    "# Apply Gaussian Blur\n",
    "blur = cv2.GaussianBlur(img,(3,3),0)\n",
    "\n",
    "# Apply Laplacian operator in some higher datatype\n",
    "laplacian = cv2.Laplacian(blur,cv2.CV_64F)\n",
    "\n",
    "# But this tends to localize the edge towards the brighter side.\n",
    "laplacian1 = laplacian/laplacian.max()\n",
    "\n",
    "cv2.imshow('a7',laplacian1)\n",
    "cv2.waitKey(0)"
   ]
  },
  {
   "cell_type": "code",
   "execution_count": null,
   "metadata": {},
   "outputs": [],
   "source": []
  }
 ],
 "metadata": {
  "kernelspec": {
   "display_name": "Python 3",
   "language": "python",
   "name": "python3"
  },
  "language_info": {
   "codemirror_mode": {
    "name": "ipython",
    "version": 3
   },
   "file_extension": ".py",
   "mimetype": "text/x-python",
   "name": "python",
   "nbconvert_exporter": "python",
   "pygments_lexer": "ipython3",
   "version": "3.8.8"
  }
 },
 "nbformat": 4,
 "nbformat_minor": 4
}
